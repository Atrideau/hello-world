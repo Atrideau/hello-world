{
  "cells": [
    {
      "cell_type": "markdown",
      "metadata": {
        "id": "view-in-github",
        "colab_type": "text"
      },
      "source": [
        "<a href=\"https://colab.research.google.com/github/Atrideau/hello-world/blob/main/Test.ipynb\" target=\"_parent\"><img src=\"https://colab.research.google.com/assets/colab-badge.svg\" alt=\"Open In Colab\"/></a>"
      ]
    },
    {
      "cell_type": "markdown",
      "metadata": {
        "id": "3obM-V4vCzhk"
      },
      "source": [
        "# Import des Librairies"
      ]
    },
    {
      "cell_type": "code",
      "execution_count": null,
      "metadata": {
        "id": "KOx3dAiMVlli"
      },
      "outputs": [],
      "source": [
        "import pandas as pd\n",
        "import numpy as np\n",
        "import matplotlib.pyplot as plt\n",
        "from sklearn.model_selection import train_test_split\n",
        "from sklearn.ensemble import RandomForestClassifier\n",
        "from sklearn import metrics\n",
        "import seaborn as sns\n",
        "from sklearn.metrics import mean_squared_error, mean_absolute_error, r2_score, accuracy_score, precision_score"
      ]
    },
    {
      "cell_type": "markdown",
      "metadata": {
        "id": "WRr53qAMLu2U"
      },
      "source": [
        "# Fonction"
      ]
    },
    {
      "cell_type": "code",
      "execution_count": null,
      "metadata": {
        "id": "iRKS_A53LtpX"
      },
      "outputs": [],
      "source": [
        "def indexSup(str0) : #cherche l'index des xxxxxxxx ou des ********\n",
        "    if ((\"xx\" in str0) and (\"**\" in str0)) : \n",
        "        return min(str0.index('xx') , str0.index('**'))\n",
        "    elif 'xx' in str0 : \n",
        "        return str0.index(\"xx\")\n",
        "    elif '**' in str0 : \n",
        "        return str0.index(\"**\")\n",
        "    return len(str0)\n",
        "\n",
        "def extract(str0) : #renvoie le message d'erreur nettoyé\n",
        "    if ':' in str0 : \n",
        "        return str0[str0.index(':')+1 : indexSup(str0)]\n",
        "    return str0[: indexSup(str0)]"
      ]
    },
    {
      "cell_type": "code",
      "execution_count": null,
      "metadata": {
        "colab": {
          "base_uri": "https://localhost:8080/",
          "height": 35
        },
        "id": "EJlSopOhRW34",
        "outputId": "f8d74142-155e-4e45-fad2-dfb4abf073a4"
      },
      "outputs": [
        {
          "output_type": "execute_result",
          "data": {
            "text/plain": [
              "' test '"
            ],
            "application/vnd.google.colaboratory.intrinsic+json": {
              "type": "string"
            }
          },
          "metadata": {},
          "execution_count": 4
        }
      ],
      "source": [
        "extract(\"coucou : test ***\")"
      ]
    },
    {
      "cell_type": "markdown",
      "metadata": {
        "id": "bvAgqGNZC5ws"
      },
      "source": [
        "# Chargement des Datasets"
      ]
    },
    {
      "cell_type": "code",
      "execution_count": 26,
      "metadata": {
        "id": "MNKUwJoBZNfT"
      },
      "outputs": [],
      "source": [
        "data = pd.read_csv('/content/testData.csv', sep=';')\n",
        "# df = pd.read_csv('/content/tfidf.csv')  # data from NLP\n",
        "# truedataset = pd.read_csv('/content/file.csv', on_bad_lines='skip', sep=';')"
      ]
    },
    {
      "cell_type": "markdown",
      "source": [
        ""
      ],
      "metadata": {
        "id": "xpKKbsCaEo8p"
      }
    },
    {
      "cell_type": "code",
      "execution_count": 27,
      "metadata": {
        "colab": {
          "base_uri": "https://localhost:8080/"
        },
        "id": "j9IhJLnQDOxi",
        "outputId": "359a1b6c-1a37-4642-f0cf-0c51ab64be6e"
      },
      "outputs": [
        {
          "output_type": "stream",
          "name": "stdout",
          "text": [
            "   INCIDENT   STATUT                                        DESIGNATION  \\\n",
            "0    639492  Archivé  #ADMINISTRATION/COMPTE/REINITIALISATION MOT DE...   \n",
            "1    644449  Archivé                    #MATERIEL/TELEPHONIE/CISCO WIFI   \n",
            "2    645665  Archivé                    #MATERIEL/TELEPHONIE/CISCO WIFI   \n",
            "3    651210  Archivé                            #MATERIEL/TELEPHONIE/IP   \n",
            "4    655283  Archivé                    #MATERIEL/TELEPHONIE/CISCO WIFI   \n",
            "\n",
            "   CODE_PRODUIT               DESIGNATION_PRODUIT  CODE_EQUIPEMENT  \\\n",
            "0           NaN                               NaN          11267.0   \n",
            "1      454308.0        LECTEUR MINI FLASH USB LK2         216315.0   \n",
            "2           NaN                               NaN          63080.0   \n",
            "3           NaN                               NaN          63110.0   \n",
            "4      334897.0  DOUCHETTE DATALOGIC TOUCH 90 PRO         190848.0   \n",
            "\n",
            "    DESIGNATION_EQUIPEMENT  CODE_APP DESIGNATION_APP  \\\n",
            "0         OPTIPLEX 3020SFF    1344.0      ADMINTOOLS   \n",
            "1                      NaN       0.0      Sans Objet   \n",
            "2        Désignation nulle       0.0      Sans Objet   \n",
            "3  LENOVO THINKCENTRE M700       0.0      Sans Objet   \n",
            "4        Désignation nulle       0.0      Sans Objet   \n",
            "\n",
            "              NOMENCLATURE_PROBLEME  \\\n",
            "0                    Acces, Comptes   \n",
            "1                        Telephonie   \n",
            "2  Pb fonctionnalites telephoniques   \n",
            "3                              ToIP   \n",
            "4                              ToIP   \n",
            "\n",
            "                                   ENONCE_PROBLEME_P  \\\n",
            "0  description de l'incident:l'user signale que q...   \n",
            "1  description de l'incident :le capot arriere du...   \n",
            "2  description de l'incident :l'utilisateur nous ...   \n",
            "3  description de l'incident : l'utilisateur me s...   \n",
            "4  description de l'incident : l'utilisateur a me...   \n",
            "\n",
            "                                            LIENWIKI  \n",
            "0  /wikisup/base%20de%20connaissance%20support/co...  \n",
            "1  /wikisup/base%20de%20connaissance%20support/su...  \n",
            "2  /wikisup/base%20de%20connaissance%20support/su...  \n",
            "3  /wikisup/base%20de%20connaissance%20support/su...  \n",
            "4  /wikisup/base%20de%20connaissance%20support/su...  \n",
            "(14578, 12)\n"
          ]
        }
      ],
      "source": [
        "print(data.head())\n",
        "print(data.shape)"
      ]
    },
    {
      "cell_type": "code",
      "execution_count": null,
      "metadata": {
        "colab": {
          "base_uri": "https://localhost:8080/"
        },
        "id": "sz6EaymoDQGe",
        "outputId": "9250b8aa-00b2-424c-e947-4f866bc23cec"
      },
      "outputs": [
        {
          "output_type": "stream",
          "name": "stdout",
          "text": [
            "   Unnamed: 0   ab  abeoisn  abeosi  abeosin  aberration  abesoin  abimer  \\\n",
            "0       22200  0.0      0.0     0.0      0.0         0.0      0.0     0.0   \n",
            "1       22201  0.0      0.0     0.0      0.0         0.0      0.0     0.0   \n",
            "2       22202  0.0      0.0     0.0      0.0         0.0      0.0     0.0   \n",
            "3       22203  0.0      0.0     0.0      0.0         0.0      0.0     0.0   \n",
            "4       22204  0.0      0.0     0.0      0.0         0.0      0.0     0.0   \n",
            "\n",
            "   abimé  abimés  ...  éventuellement  éviter  évoluer  évolution  évoqu  \\\n",
            "0    0.0     0.0  ...             0.0     0.0      0.0        0.0    0.0   \n",
            "1    0.0     0.0  ...             0.0     0.0      0.0        0.0    0.0   \n",
            "2    0.0     0.0  ...             0.0     0.0      0.0        0.0    0.0   \n",
            "3    0.0     0.0  ...             0.0     0.0      0.0        0.0    0.0   \n",
            "4    0.0     0.0  ...             0.0     0.0      0.0        0.0    0.0   \n",
            "\n",
            "   événement  éxecuter  éxpirer  éxterieur      être  \n",
            "0        0.0       0.0      0.0        0.0  0.000000  \n",
            "1        0.0       0.0      0.0        0.0  0.142761  \n",
            "2        0.0       0.0      0.0        0.0  0.000000  \n",
            "3        0.0       0.0      0.0        0.0  0.000000  \n",
            "4        0.0       0.0      0.0        0.0  0.000000  \n",
            "\n",
            "[5 rows x 5693 columns]\n",
            "(20638, 5693)\n"
          ]
        }
      ],
      "source": [
        "print(df.head())\n",
        "print(df.shape)"
      ]
    },
    {
      "cell_type": "markdown",
      "metadata": {
        "id": "GpIp-mL7DA2C"
      },
      "source": [
        "# Data Processing"
      ]
    },
    {
      "cell_type": "markdown",
      "metadata": {
        "id": "tl7Q1BhfDFCK"
      },
      "source": [
        "suppression des colonnes inutiles"
      ]
    },
    {
      "cell_type": "code",
      "execution_count": 28,
      "metadata": {
        "id": "g3gSL08utCvD"
      },
      "outputs": [],
      "source": [
        "# data = data[data['Unnamed: 12'].isna()]\n",
        "# data = data.drop(columns=['Unnamed: 12', 'Unnamed: 13', 'Unnamed: 14'])\n",
        "\n",
        "# low correlation or redundancy\n",
        "data.drop(\"CODE_PRODUIT\", axis=1, inplace=True)\n",
        "data.drop(\"DESIGNATION_PRODUIT\", axis=1, inplace=True)\n",
        "data.drop(\"STATUT\", axis=1, inplace=True)\n",
        "data.drop(\"DESIGNATION_EQUIPEMENT\", axis=1, inplace=True)\n",
        "data.drop(\"DESIGNATION_APP\", axis=1, inplace=True) #red"
      ]
    },
    {
      "cell_type": "code",
      "source": [
        "# truedataset = truedataset[truedataset['Unnamed: 12'].isna()]\n",
        "# truedataset = truedataset.drop(columns=['Unnamed: 12', 'Unnamed: 13', 'Unnamed: 14'])\n",
        "\n",
        "# # low correlation or redundancy\n",
        "# truedataset.drop(\"CODE_PRODUIT\", axis=1, inplace=True)\n",
        "# truedataset.drop(\"DESIGNATION_PRODUIT\", axis=1, inplace=True)\n",
        "# truedataset.drop(\"STATUT\", axis=1, inplace=True)\n",
        "# truedataset.drop(\"DESIGNATION_EQUIPEMENT\", axis=1, inplace=True)\n",
        "# truedataset.drop(\"DESIGNATION_APP\", axis=1, inplace=True) #red"
      ],
      "metadata": {
        "colab": {
          "base_uri": "https://localhost:8080/",
          "height": 237
        },
        "id": "8gWidye4E12v",
        "outputId": "3b7dfd57-4541-4d2f-dc2a-d7eff1d4a4dc"
      },
      "execution_count": null,
      "outputs": [
        {
          "output_type": "error",
          "ename": "NameError",
          "evalue": "ignored",
          "traceback": [
            "\u001b[0;31m---------------------------------------------------------------------------\u001b[0m",
            "\u001b[0;31mNameError\u001b[0m                                 Traceback (most recent call last)",
            "\u001b[0;32m<ipython-input-282-5646a23b60fb>\u001b[0m in \u001b[0;36m<module>\u001b[0;34m()\u001b[0m\n\u001b[0;32m----> 1\u001b[0;31m \u001b[0mtruedataset\u001b[0m \u001b[0;34m=\u001b[0m \u001b[0mtruedataset\u001b[0m\u001b[0;34m[\u001b[0m\u001b[0mtruedataset\u001b[0m\u001b[0;34m[\u001b[0m\u001b[0;34m'Unnamed: 12'\u001b[0m\u001b[0;34m]\u001b[0m\u001b[0;34m.\u001b[0m\u001b[0misna\u001b[0m\u001b[0;34m(\u001b[0m\u001b[0;34m)\u001b[0m\u001b[0;34m]\u001b[0m\u001b[0;34m\u001b[0m\u001b[0;34m\u001b[0m\u001b[0m\n\u001b[0m\u001b[1;32m      2\u001b[0m \u001b[0mtruedataset\u001b[0m \u001b[0;34m=\u001b[0m \u001b[0mtruedataset\u001b[0m\u001b[0;34m.\u001b[0m\u001b[0mdrop\u001b[0m\u001b[0;34m(\u001b[0m\u001b[0mcolumns\u001b[0m\u001b[0;34m=\u001b[0m\u001b[0;34m[\u001b[0m\u001b[0;34m'Unnamed: 12'\u001b[0m\u001b[0;34m,\u001b[0m \u001b[0;34m'Unnamed: 13'\u001b[0m\u001b[0;34m,\u001b[0m \u001b[0;34m'Unnamed: 14'\u001b[0m\u001b[0;34m]\u001b[0m\u001b[0;34m)\u001b[0m\u001b[0;34m\u001b[0m\u001b[0;34m\u001b[0m\u001b[0m\n\u001b[1;32m      3\u001b[0m \u001b[0;34m\u001b[0m\u001b[0m\n\u001b[1;32m      4\u001b[0m \u001b[0;31m# low correlation or redundancy\u001b[0m\u001b[0;34m\u001b[0m\u001b[0;34m\u001b[0m\u001b[0;34m\u001b[0m\u001b[0m\n\u001b[1;32m      5\u001b[0m \u001b[0mtruedataset\u001b[0m\u001b[0;34m.\u001b[0m\u001b[0mdrop\u001b[0m\u001b[0;34m(\u001b[0m\u001b[0;34m\"CODE_PRODUIT\"\u001b[0m\u001b[0;34m,\u001b[0m \u001b[0maxis\u001b[0m\u001b[0;34m=\u001b[0m\u001b[0;36m1\u001b[0m\u001b[0;34m,\u001b[0m \u001b[0minplace\u001b[0m\u001b[0;34m=\u001b[0m\u001b[0;32mTrue\u001b[0m\u001b[0;34m)\u001b[0m\u001b[0;34m\u001b[0m\u001b[0;34m\u001b[0m\u001b[0m\n",
            "\u001b[0;31mNameError\u001b[0m: name 'truedataset' is not defined"
          ]
        }
      ]
    },
    {
      "cell_type": "markdown",
      "metadata": {
        "id": "yzWGDYYzDajJ"
      },
      "source": [
        "recupération de la derniere partie de la branche des différentes arborescences de la feature 'DESIGNATION'"
      ]
    },
    {
      "cell_type": "code",
      "execution_count": 29,
      "metadata": {
        "id": "Izab2EaxHmW0"
      },
      "outputs": [],
      "source": [
        "data['DESIGNATION'] = data['DESIGNATION'].str.upper().str.split('/').str[-1]\n",
        "#data['DESIGNATION'] = data['DESIGNATION'].str.upper()"
      ]
    },
    {
      "cell_type": "code",
      "source": [
        "# truedataset['DESIGNATION'] = truedataset['DESIGNATION'].str.upper().str.split('/').str[-1]"
      ],
      "metadata": {
        "id": "utDvz0_VFEh_"
      },
      "execution_count": null,
      "outputs": []
    },
    {
      "cell_type": "markdown",
      "metadata": {
        "id": "ZIEumGieMEdB"
      },
      "source": [
        "suppression des choses inutiles de l'enoncé du probleme"
      ]
    },
    {
      "cell_type": "code",
      "execution_count": 30,
      "metadata": {
        "id": "X6NqJbqSME4c"
      },
      "outputs": [],
      "source": [
        "data.reset_index(inplace=True, drop=True)\n",
        "data['ENONCE_PROBLEME_P'] = data.apply(lambda x: extract(str(x['ENONCE_PROBLEME_P'])),axis=1)"
      ]
    },
    {
      "cell_type": "code",
      "source": [
        "# truedataset.reset_index(inplace=True, drop=True)\n",
        "# truedataset['ENONCE_PROBLEME_P'] = truedataset.apply(lambda x: extract(str(x['ENONCE_PROBLEME_P'])),axis=1)"
      ],
      "metadata": {
        "id": "39FxNP7ZFMOO"
      },
      "execution_count": null,
      "outputs": []
    },
    {
      "cell_type": "code",
      "execution_count": 31,
      "metadata": {
        "colab": {
          "base_uri": "https://localhost:8080/"
        },
        "id": "coglxWp7Qemg",
        "outputId": "9a82b0f3-2c8e-41d4-98f1-1ac4d7ba1425"
      },
      "outputs": [
        {
          "output_type": "stream",
          "name": "stdout",
          "text": [
            "       INCIDENT               DESIGNATION  CODE_EQUIPEMENT  CODE_APP  \\\n",
            "0        639492                  DELTANET          11267.0    1344.0   \n",
            "1        644449                CISCO WIFI         216315.0       0.0   \n",
            "2        645665                CISCO WIFI          63080.0       0.0   \n",
            "3        651210                        IP          63110.0       0.0   \n",
            "4        655283                CISCO WIFI         190848.0       0.0   \n",
            "...         ...                       ...              ...       ...   \n",
            "14573    828797  COMPTE @, DELTANET, UNIX         274171.0       0.0   \n",
            "14574    828806         DYSFONCTIONNEMENT         458807.0   12486.0   \n",
            "14575    828834                  CODE PIN         285471.0   12777.0   \n",
            "14576    828854                  COMPTE @         192024.0       0.0   \n",
            "14577    828893                       SON         247934.0       0.0   \n",
            "\n",
            "                  NOMENCLATURE_PROBLEME  \\\n",
            "0                        Acces, Comptes   \n",
            "1                            Telephonie   \n",
            "2      Pb fonctionnalites telephoniques   \n",
            "3                                  ToIP   \n",
            "4                                  ToIP   \n",
            "...                                 ...   \n",
            "14573                        Verrouille   \n",
            "14574                 Dysfonctionnement   \n",
            "14575                       Cle Gemalto   \n",
            "14576                      Mot de passe   \n",
            "14577                          Lenteurs   \n",
            "\n",
            "                                       ENONCE_PROBLEME_P  \\\n",
            "0      l'user signale que quand il reset mdp deltanet...   \n",
            "1      le capot arriere du telephone ne tient plus, e...   \n",
            "2      l'utilisateur nous appelle car son cisco wifi ...   \n",
            "3       l'utilisateur me signal que la batterie de so...   \n",
            "4       l'utilisateur a me signal que les communicati...   \n",
            "...                                                  ...   \n",
            "14573             demande de deverrouillage du compte @    \n",
            "14574   l'utilisateur signale qu'il a un message d'er...   \n",
            "14575   la clef gemalto de l'utilisateur est verrouil...   \n",
            "14576               demande de deverrouillage compte @,    \n",
            "14577   l'utilisatrice m'indique ne plus avoir de son...   \n",
            "\n",
            "                                                LIENWIKI  \n",
            "0      /wikisup/base%20de%20connaissance%20support/co...  \n",
            "1      /wikisup/base%20de%20connaissance%20support/su...  \n",
            "2      /wikisup/base%20de%20connaissance%20support/su...  \n",
            "3      /wikisup/base%20de%20connaissance%20support/su...  \n",
            "4      /wikisup/base%20de%20connaissance%20support/su...  \n",
            "...                                                  ...  \n",
            "14573  /wikisup/base%20de%20connaissance%20support/ro...  \n",
            "14574  /wikisup/base%20de%20connaissance%20support/po...  \n",
            "14575  /wikisup/base%20de%20connaissance%20support/ge...  \n",
            "14576  /wikisup/base%20de%20connaissance%20support/ro...  \n",
            "14577  /wikisup/base%20de%20connaissance%20support/pc...  \n",
            "\n",
            "[14578 rows x 7 columns]\n"
          ]
        }
      ],
      "source": [
        "print(data)"
      ]
    },
    {
      "cell_type": "markdown",
      "metadata": {
        "id": "wNC8EnjJDza6"
      },
      "source": [
        "Recuperation du mot caracterisant le mieux le probleme décrit par le createur du ticket"
      ]
    },
    {
      "cell_type": "code",
      "execution_count": null,
      "metadata": {
        "id": "Pk7Oxa978nn6"
      },
      "outputs": [],
      "source": [
        "Cle = df[[\"Unnamed: 0\"]].copy()  #new dataset\n",
        "df = df.drop(\"Unnamed: 0\", axis=1)   #search max value without index\n",
        "\n",
        "maxValueIndex = df.idxmax(axis = 1)\n",
        "\n",
        "Cle['Topic'] = maxValueIndex  #add a new column to the new dataset\n",
        "Cle.rename(columns={\"Unnamed: 0\": \"INCIDENT\"}, inplace=True)  #rename column for merge"
      ]
    },
    {
      "cell_type": "code",
      "execution_count": 9,
      "metadata": {
        "colab": {
          "base_uri": "https://localhost:8080/",
          "height": 219
        },
        "id": "PTukIUp49xZM",
        "outputId": "5ce3d275-9c4b-4173-a87e-1a1553f0f18c"
      },
      "outputs": [
        {
          "output_type": "error",
          "ename": "NameError",
          "evalue": "ignored",
          "traceback": [
            "\u001b[0;31m---------------------------------------------------------------------------\u001b[0m",
            "\u001b[0;31mNameError\u001b[0m                                 Traceback (most recent call last)",
            "\u001b[0;32m<ipython-input-9-96ae737e7de6>\u001b[0m in \u001b[0;36m<module>\u001b[0;34m()\u001b[0m\n\u001b[0;32m----> 1\u001b[0;31m \u001b[0mdata\u001b[0m \u001b[0;34m=\u001b[0m \u001b[0mpd\u001b[0m\u001b[0;34m.\u001b[0m\u001b[0mconcat\u001b[0m\u001b[0;34m(\u001b[0m\u001b[0;34m[\u001b[0m\u001b[0mdata\u001b[0m\u001b[0;34m,\u001b[0m \u001b[0mCle\u001b[0m\u001b[0;34m]\u001b[0m\u001b[0;34m,\u001b[0m \u001b[0maxis\u001b[0m\u001b[0;34m=\u001b[0m\u001b[0;36m1\u001b[0m\u001b[0;34m,\u001b[0m \u001b[0mjoin\u001b[0m\u001b[0;34m=\u001b[0m\u001b[0;34m\"inner\"\u001b[0m\u001b[0;34m)\u001b[0m\u001b[0;34m\u001b[0m\u001b[0;34m\u001b[0m\u001b[0m\n\u001b[0m\u001b[1;32m      2\u001b[0m \u001b[0mdata\u001b[0m \u001b[0;34m=\u001b[0m \u001b[0mdata\u001b[0m\u001b[0;34m.\u001b[0m\u001b[0mdrop\u001b[0m\u001b[0;34m(\u001b[0m\u001b[0;34m\"INCIDENT\"\u001b[0m\u001b[0;34m,\u001b[0m \u001b[0maxis\u001b[0m\u001b[0;34m=\u001b[0m\u001b[0;36m1\u001b[0m\u001b[0;34m)\u001b[0m  \u001b[0;31m#useless for training\u001b[0m\u001b[0;34m\u001b[0m\u001b[0;34m\u001b[0m\u001b[0m\n\u001b[1;32m      3\u001b[0m \u001b[0;31m#data = data.drop(\"Unnamed: 0\", axis=1)\u001b[0m\u001b[0;34m\u001b[0m\u001b[0;34m\u001b[0m\u001b[0;34m\u001b[0m\u001b[0m\n\u001b[1;32m      4\u001b[0m \u001b[0mprint\u001b[0m\u001b[0;34m(\u001b[0m\u001b[0mdata\u001b[0m\u001b[0;34m)\u001b[0m\u001b[0;34m\u001b[0m\u001b[0;34m\u001b[0m\u001b[0m\n",
            "\u001b[0;31mNameError\u001b[0m: name 'Cle' is not defined"
          ]
        }
      ],
      "source": [
        "data = pd.concat([data, Cle], axis=1, join=\"inner\")  \n",
        "data = data.drop(\"INCIDENT\", axis=1)  #useless for training\n",
        "#data = data.drop(\"Unnamed: 0\", axis=1)\n",
        "print(data)"
      ]
    },
    {
      "cell_type": "markdown",
      "metadata": {
        "id": "B7iaxER-FaVB"
      },
      "source": [
        "Remplacement de toutes les valeurs (chiffrées ou non) par des int allant de 1 au nombre d'elements différents dans la colonne (Méthode de groooooos bourrin)"
      ]
    },
    {
      "cell_type": "code",
      "execution_count": 32,
      "metadata": {
        "id": "i5iSnKSPtfP9"
      },
      "outputs": [],
      "source": [
        "for i in data.columns :\n",
        "  data[i] = data[i].fillna(0)\n",
        "  n=1\n",
        "  for j in data[i].unique() :\n",
        "    data.loc[data[i]==j,i]=n\n",
        "    n+=1\n",
        "  data[i] = data[i].astype(int)"
      ]
    },
    {
      "cell_type": "markdown",
      "metadata": {
        "id": "GACqy5HVF3hW"
      },
      "source": [
        "# Matrice de correlation"
      ]
    },
    {
      "cell_type": "code",
      "execution_count": 33,
      "metadata": {
        "colab": {
          "base_uri": "https://localhost:8080/",
          "height": 418
        },
        "id": "2pX3hflu3CZV",
        "outputId": "729791b8-58fa-432a-ad3c-01a006a9f896"
      },
      "outputs": [
        {
          "output_type": "execute_result",
          "data": {
            "text/plain": [
              "<matplotlib.axes._subplots.AxesSubplot at 0x7f458b2b2c50>"
            ]
          },
          "metadata": {},
          "execution_count": 33
        },
        {
          "output_type": "display_data",
          "data": {
            "text/plain": [
              "<Figure size 432x288 with 2 Axes>"
            ],
            "image/png": "[encoded data removed]"
          },
          "metadata": {
            "needs_background": "light"
          }
        }
      ],
      "source": [
        "matrice_corr = data.corr().round(2)\n",
        "sns.heatmap(data=matrice_corr, annot=True)"
      ]
    },
    {
      "cell_type": "markdown",
      "metadata": {
        "id": "dt-FLRhdGXIs"
      },
      "source": [
        "# Creation du modele"
      ]
    },
    {
      "cell_type": "markdown",
      "metadata": {
        "id": "cYtcqC4rGhI-"
      },
      "source": [
        "slip du dataset pour entrainement et test du modele"
      ]
    },
    {
      "cell_type": "code",
      "execution_count": 34,
      "metadata": {
        "id": "IO9QhPyb1cNC"
      },
      "outputs": [],
      "source": [
        "train, test = train_test_split(data, test_size=0.2)\n",
        "# train, test = train_test_split(data, test_size=0)\n",
        "\n",
        "\n",
        "Ytrain = train[[\"LIENWIKI\"]]\n",
        "Xtrain = train.drop(\"LIENWIKI\", axis=1)\n",
        "\n",
        "Ytest = test[[\"LIENWIKI\"]]              #A commenter \n",
        "Xtest = test.drop(\"LIENWIKI\", axis=1) #A commenter \n",
        "\n",
        "# Récupérer \n"
      ]
    },
    {
      "cell_type": "markdown",
      "metadata": {
        "id": "v6d7jW0CGqBJ"
      },
      "source": [
        "entrainement et prediction"
      ]
    },
    {
      "cell_type": "code",
      "execution_count": 35,
      "metadata": {
        "colab": {
          "base_uri": "https://localhost:8080/"
        },
        "id": "YyM8mXPN0RNz",
        "outputId": "c1924663-12ab-4145-f4ed-12b4a004d785"
      },
      "outputs": [
        {
          "output_type": "stream",
          "name": "stderr",
          "text": [
            "/usr/local/lib/python3.7/dist-packages/ipykernel_launcher.py:2: DataConversionWarning: A column-vector y was passed when a 1d array was expected. Please change the shape of y to (n_samples,), for example using ravel().\n",
            "  \n"
          ]
        }
      ],
      "source": [
        "model = RandomForestClassifier(min_samples_leaf=3, criterion='gini')\n",
        "model.fit(Xtrain, Ytrain)\n",
        "prediction = model.predict(Xtest)"
      ]
    },
    {
      "cell_type": "markdown",
      "source": [
        "Calcul Top 3 des prédictions"
      ],
      "metadata": {
        "id": "j9kjOBMz4ThG"
      }
    },
    {
      "cell_type": "code",
      "execution_count": 36,
      "metadata": {
        "id": "Sp8mSqlMblS6"
      },
      "outputs": [],
      "source": [
        "pred_proba = model.predict_proba(Xtest)\n",
        "top3 = np.zeros((pred_proba.shape[0],3))\n",
        "\n",
        "for irow, row in enumerate(pred_proba):\n",
        "  top3[irow] = np.argsort(row)[-3:] + 1\n",
        "# print(top3)\n",
        "# print(prediction)\n",
        "# print((Ytest['LIENWIKI'].to_numpy() == prediction).sum())\n",
        "# print((top3 == prediction).sum())"
      ]
    },
    {
      "cell_type": "markdown",
      "source": [
        "Fonction de calcul de précision"
      ],
      "metadata": {
        "id": "VY8Hrtqv4XDz"
      }
    },
    {
      "cell_type": "code",
      "execution_count": 15,
      "metadata": {
        "id": "GmeMIkgxlYK1"
      },
      "outputs": [],
      "source": [
        "def precision_top3(Ytest_numpy, top3):\n",
        "  count =0\n",
        "  for index, test in enumerate(Ytest_numpy):\n",
        "    # print(test, top3[index])\n",
        "    if test in top3[index]:\n",
        "      count +=1\n",
        "      # print('count')\n",
        "  return count/Ytest_numpy.shape[0]"
      ]
    },
    {
      "cell_type": "markdown",
      "metadata": {
        "id": "fvcPKSXNG-hX"
      },
      "source": [
        "calcul de metric"
      ]
    },
    {
      "cell_type": "code",
      "execution_count": 37,
      "metadata": {
        "colab": {
          "base_uri": "https://localhost:8080/"
        },
        "id": "Owg0l2Xd0RLN",
        "outputId": "9e85f589-8412-4190-a48a-49a966ca63ee"
      },
      "outputs": [
        {
          "output_type": "execute_result",
          "data": {
            "text/plain": [
              "0.921124828532236"
            ]
          },
          "metadata": {},
          "execution_count": 37
        }
      ],
      "source": [
        "accuracy_score(Ytest, prediction)"
      ]
    },
    {
      "cell_type": "code",
      "execution_count": 38,
      "metadata": {
        "colab": {
          "base_uri": "https://localhost:8080/"
        },
        "id": "Uxaj7bqck6e7",
        "outputId": "b769df38-812c-4634-e95e-36ecc100cb11"
      },
      "outputs": [
        {
          "output_type": "execute_result",
          "data": {
            "text/plain": [
              "0.921124828532236"
            ]
          },
          "metadata": {},
          "execution_count": 38
        }
      ],
      "source": [
        "precision_score(Ytest, prediction, average='micro')"
      ]
    },
    {
      "cell_type": "code",
      "execution_count": 39,
      "metadata": {
        "colab": {
          "base_uri": "https://localhost:8080/"
        },
        "id": "HDp_G5PwstIN",
        "outputId": "e52e47ba-3dae-4f21-a4ed-ac6e443a84e3"
      },
      "outputs": [
        {
          "output_type": "execute_result",
          "data": {
            "text/plain": [
              "0.9735939643347051"
            ]
          },
          "metadata": {},
          "execution_count": 39
        }
      ],
      "source": [
        "precision_top3(Ytest['LIENWIKI'].to_numpy(), top3)"
      ]
    },
    {
      "cell_type": "markdown",
      "metadata": {
        "id": "gum0_KvZHPAW"
      },
      "source": [
        "Plot des features importance"
      ]
    },
    {
      "cell_type": "code",
      "execution_count": null,
      "metadata": {
        "colab": {
          "base_uri": "https://localhost:8080/",
          "height": 282
        },
        "id": "AepiJbTV0RFy",
        "outputId": "3815219f-9b3b-4e9c-b997-34c3f656de6f"
      },
      "outputs": [
        {
          "output_type": "execute_result",
          "data": {
            "text/plain": [
              "<BarContainer object of 7 artists>"
            ]
          },
          "metadata": {},
          "execution_count": 308
        },
        {
          "output_type": "display_data",
          "data": {
            "text/plain": [
              "<Figure size 432x288 with 1 Axes>"
            ],
            "image/png": "[encoded data removed]"
          },
          "metadata": {
            "needs_background": "light"
          }
        }
      ],
      "source": [
        "plt.barh(Xtrain.columns, model.feature_importances_)"
      ]
    },
    {
      "cell_type": "code",
      "execution_count": null,
      "metadata": {
        "id": "dVQACmWKzMCO"
      },
      "outputs": [],
      "source": [
        ""
      ]
    },
    {
      "cell_type": "markdown",
      "metadata": {
        "id": "b7uW0FrpCq6m"
      },
      "source": [
        "# Fonction non utilisées dans ce code"
      ]
    },
    {
      "cell_type": "code",
      "execution_count": null,
      "metadata": {
        "id": "2uusVncBCPpN"
      },
      "outputs": [],
      "source": [
        "def MsgErreur(string) : \n",
        "  if (\"xx\" in string) and (\"**\" in string) :\n",
        "    Break = min(string.index(\"xx\"),string.index(\"**\"))\n",
        "    DescTicket = string[:Break]\n",
        "  elif (\"xx\" in string) and (\"**\" not in string):\n",
        "    Break = string.index(\"xx\")\n",
        "    DescTicket = string[:Break]\n",
        "  elif (\"xx\" not in string) and (\"**\" in string):\n",
        "    Break = string.index(\"**\")\n",
        "    DescTicket = string[:Break]\n",
        "  else: \n",
        "    DescTicket = string\n",
        "    \n",
        "  return DescTicket"
      ]
    }
  ],
  "metadata": {
    "colab": {
      "collapsed_sections": [],
      "name": "Test.ipynb",
      "provenance": [],
      "include_colab_link": true
    },
    "kernelspec": {
      "display_name": "Python 3",
      "name": "python3"
    },
    "language_info": {
      "name": "python"
    }
  },
  "nbformat": 4,
  "nbformat_minor": 0
}